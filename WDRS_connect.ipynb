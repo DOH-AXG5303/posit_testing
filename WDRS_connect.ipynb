{
 "cells": [
  {
   "cell_type": "markdown",
   "metadata": {},
   "source": [
    "list of added packages:\n",
    "sqlalchemy=1.4.39\n",
    "python-dotenv=0.21.0"
   ]
  },
  {
   "cell_type": "code",
   "execution_count": 1,
   "metadata": {},
   "outputs": [],
   "source": [
    "import pandas as pd\n",
    "import numpy as np\n",
    "import os\n",
    "import sqlalchemy as sa #sqlalchemy 1.4.39 for python3.9\n",
    "from sqlalchemy.engine import URL\n",
    "from sqlalchemy import create_engine\n",
    "from sqlalchemy import text\n",
    "import pyodbc # need to use pyodbc to create and use temp tables, sqlalchemy cannot\n",
    "from dotenv import load_dotenv\n",
    "from pathlib import Path\n",
    "import getpass"
   ]
  },
  {
   "cell_type": "code",
   "execution_count": 6,
   "metadata": {},
   "outputs": [],
   "source": [
    "load_dotenv(\"../.env\")\n",
    "SERVER_QA=os.getenv(\"SERVER_QA\")\n",
    "USERNAME=os.getenv(\"USERNAME1\")\n",
    "PASSWORD=os.getenv(\"PASSWORD1\")"
   ]
  },
  {
   "cell_type": "code",
   "execution_count": 12,
   "metadata": {},
   "outputs": [
    {
     "name": "stdout",
     "output_type": "stream",
     "text": [
      "['Athena', 'BigQuery', 'Cassandra', 'Databricks', 'Hive', 'Impala', 'MongoDB', 'MySQL', 'Netezza', 'Oracle', 'PostgreSQL', 'Redshift', 'Salesforce', 'Snowflake', 'Spark', 'SQLServer', 'Teradata', 'ODBC Driver 18 for SQL Server']\n"
     ]
    }
   ],
   "source": [
    "print(pyodbc.drivers())\n",
    "ODBC_DRIVER_VERSION = \"ODBC Driver 18 for SQL Server\"\n",
    "assert ODBC_DRIVER_VERSION in pyodbc.drivers()\n",
    "conn_string_qa3 = f\"Driver={{{ODBC_DRIVER_VERSION}}};Server={SERVER_QA};Database=WDRS;UID={USERNAME};PWD={PASSWORD};Encrypt=yes;TrustServerCertificate=yes;Connection Timeout=10;ApplicationIntent=ReadOnly\"\n",
    "\n"
   ]
  },
  {
   "cell_type": "code",
   "execution_count": 13,
   "metadata": {},
   "outputs": [
    {
     "ename": "OperationalError",
     "evalue": "('HYT00', '[HYT00] [Microsoft][ODBC Driver 18 for SQL Server]Login timeout expired (0) (SQLDriverConnect)')",
     "output_type": "error",
     "traceback": [
      "\u001b[0;31m---------------------------------------------------------------------------\u001b[0m",
      "\u001b[0;31mOperationalError\u001b[0m                          Traceback (most recent call last)",
      "Cell \u001b[0;32mIn[13], line 1\u001b[0m\n\u001b[0;32m----> 1\u001b[0m \u001b[38;5;28;01mwith\u001b[39;00m \u001b[43mpyodbc\u001b[49m\u001b[38;5;241;43m.\u001b[39;49m\u001b[43mconnect\u001b[49m\u001b[43m(\u001b[49m\u001b[43mconn_string_qa3\u001b[49m\u001b[43m)\u001b[49m \u001b[38;5;28;01mas\u001b[39;00m conn:\n\u001b[1;32m      2\u001b[0m     cursor \u001b[38;5;241m=\u001b[39m conn\u001b[38;5;241m.\u001b[39mcursor()\n\u001b[1;32m      3\u001b[0m     cursor\u001b[38;5;241m.\u001b[39mexecute(\u001b[38;5;124m\"\u001b[39m\u001b[38;5;124mSELECT 1 from IDS_CASE\u001b[39m\u001b[38;5;124m\"\u001b[39m)\n",
      "\u001b[0;31mOperationalError\u001b[0m: ('HYT00', '[HYT00] [Microsoft][ODBC Driver 18 for SQL Server]Login timeout expired (0) (SQLDriverConnect)')"
     ]
    }
   ],
   "source": [
    "with pyodbc.connect(conn_string_qa3) as conn:\n",
    "    cursor = conn.cursor()\n",
    "    cursor.execute(\"SELECT 1 from IDS_CASE\")\n",
    "    for row in cursor.fetchall():\n",
    "        print(row)"
   ]
  },
  {
   "cell_type": "code",
   "execution_count": null,
   "metadata": {},
   "outputs": [],
   "source": [
    "\n",
    "instance = 'QA'\n",
    "\n",
    "qa_connection_string = f\"DRIVER={{{ODBC_DRIVER_VERSION}}};SERVER={SERVER_QA};DATABASE=WDRS;UID={USERNAME};PWD={PASSWORD};Encrypt=yes;TrustServerCertificate=yes;Connection Timeout=10;ApplicationIntent=ReadOnly\"\n",
    "# connection_string = f\"DRIVER={{{ODBC_DRIVER_VERSION}}};SERVER={SERVER_PROD};DATABASE=WDRS;UID={EMAIL};PWD={PASSWORD};Authentication=ActiveDirectoryPassword;Encrypt=yes;TrustServerCertificate=no;Connection Timeout=0;ApplicationIntent=ReadOnly\"\n",
    "\n",
    "# connection_url = URL.create(\"mssql+pyodbc\", query={\"odbc_connect\": connection_string})\n",
    "qa_connection_url = URL.create(\"mssql+pyodbc\", query={\"odbc_connect\": qa_connection_string})\n",
    "\n",
    "# use sqlalchemy with pd.read_sql_query when possible because results easily go into pandas data frame\n",
    "if instance == 'QA':\n",
    "    engine = create_engine(qa_connection_url)\n",
    "    days = '-60' # go back 60 days in QA to get enough data\n",
    "elif instance == 'PROD':\n",
    "    engine = create_engine(connection_url)\n",
    "    days = '-4'\n",
    "\n",
    "# Pull new cases from WDRS\n",
    "SQL_cases_no_labs = (\"SELECT DISTINCT \"\n",
    "             \"m.CASE_ID AS case_id, \"\n",
    "             \"m.CODE AS code, \"\n",
    "             \"m.FIRST_NAME AS first_name, \"\n",
    "             \"m.MIDDLE_NAME AS middle_name, \"\n",
    "             \"m.LAST_NAME AS last_name, \"\n",
    "             \"m.DIED_ILLNESS AS died_illness, \"\n",
    "             \"m.DOH_CASE_CLASSIFICATION_GENERAL AS doh_case_classification_general, \"\n",
    "             \"m.INITIAL_REPORTING_SOURCE AS initial_reporting_source, \"\n",
    "             \"m.INITIAL_REPORTING_SOURCE_ORGANIZATION_NAME_PERSON_REPORTING_CASE AS initial_reporting_source_organization_name_person_reporting_case, \"\n",
    "             \"m.INITIAL_REPORTING_SOURCE_ORGANIZATION_TELEPHONE AS initial_reporting_source_organization_telephone, \"\n",
    "             \"m.INITIAL_REPORTING_SOURCE_OTHER_SPECIFY AS initial_reporting_source_other_specify, \"\n",
    "             \"m.INITIAL_REPORTING_SOURCE_OTHER_STATE AS initial_reporting_source_other_state, \"\n",
    "             \"m.INITIAL_REPORTING_SOURCE_OTHER_LHJ AS initial_reporting_source_other_lhj, \"\n",
    "             \"m.INITIAL_REPORTING_SOURCE_REPORTER_ORGANIZATION AS initial_reporting_source_reporter_organization, \"\n",
    "             \"m.LHJ_NOTIFICATION_DATE AS lhj_notification_date, \"\n",
    "             \"m.RARE_DISEASE_PUBLIC_HEALTH_SIGNIFICANCE AS rare_disease_public_health_significance, \"\n",
    "             \"m.ACCOUNTABLE_COUNTY AS accountable_county, \" \n",
    "             \"m.WASHINGTON_STATE_RESIDENT AS washington_state_resident, \"\n",
    "             \"m.BIRTH_DATE AS dob, \"\n",
    "             \"m.DEATH_DATE AS death_date, \"\n",
    "             \"m.SUFFIX AS suffix, \"\n",
    "             \"m.GENDER AS gender, \"\n",
    "             \"m.EXTERNAL_ID AS party_external_id, \"\n",
    "             \"cp.CITY AS city, \"\n",
    "             \"cp.COUNTY AS county, \"\n",
    "             \"cp.POSTAL_CODE AS postal_code, \"\n",
    "             \"cp.STATE AS state, \"\n",
    "             \"cp.STREET1 AS street1, \"\n",
    "             \"cp.STREET2 AS street2, \"\n",
    "             \"cp.PRIMARY_ADDRESS AS primary_address, \"\n",
    "             \"phone1.PHONE1 AS phone1, \" \n",
    "             \"phone2.PHONE2 AS phone2 \"\n",
    "             \"FROM DD_GCD_MORI_CASE m \"\n",
    "             \"INNER JOIN IDS_CASE cs ON cs.CASE_ID = m.CASE_ID \"\n",
    "             \"INNER JOIN IDS_PARTICIPANT part ON part.CASE_ID = cs.UNID \"\n",
    "             \"INNER JOIN IDS_PARTY p ON p.UNID = part.PARTY_ID \"\n",
    "             \"INNER JOIN IDS_CONTACTPOINT cp ON cp.PARTY_ID = p.UNID \"\n",
    "             \"LEFT JOIN (\"\n",
    "                 \"SELECT NAME, VALUE AS 'PHONE1', PARTY_ID, ROW_NUMBER() \"\n",
    "                 \"OVER (PARTITION BY PARTY_ID \"\n",
    "                 \"ORDER BY ITERATION DESC) AS rn \"\n",
    "                 \"FROM IDS_PARTY_ATTRIBUTE WHERE NAME = 'Phone') phone1 \"\n",
    "                 \"ON phone1.PARTY_ID = p.UNID AND phone1.rn = 1 \"\n",
    "             \"LEFT JOIN (\"\n",
    "                 \"SELECT NAME, VALUE AS 'PHONE2', PARTY_ID, ROW_NUMBER() \"\n",
    "                 \"OVER (PARTITION BY PARTY_ID \"\n",
    "                 \"ORDER BY ITERATION DESC) AS rn \"\n",
    "                 \"FROM IDS_PARTY_ATTRIBUTE WHERE NAME = 'Phone') phone2 \"\n",
    "                 \"ON phone2.PARTY_ID = p.UNID AND phone2.rn = 2 \"\n",
    "             f\"WHERE cs.CREATE_DATE BETWEEN DATEADD(day, {days}, CAST(GETDATE() AS DATE)) AND CAST(GETDATE() AS DATE)\"\n",
    "             )\n",
    "\n",
    "with engine.begin() as wdrs_conn:\n",
    "        wdrs_cases = pd.read_sql_query(text(SQL_cases_no_labs), wdrs_conn)\n",
    "\n",
    "\n",
    "    "
   ]
  }
 ],
 "metadata": {
  "kernelspec": {
   "display_name": "transform22",
   "language": "python",
   "name": "python3"
  },
  "language_info": {
   "codemirror_mode": {
    "name": "ipython",
    "version": 3
   },
   "file_extension": ".py",
   "mimetype": "text/x-python",
   "name": "python",
   "nbconvert_exporter": "python",
   "pygments_lexer": "ipython3",
   "version": "3.9.23"
  }
 },
 "nbformat": 4,
 "nbformat_minor": 2
}
